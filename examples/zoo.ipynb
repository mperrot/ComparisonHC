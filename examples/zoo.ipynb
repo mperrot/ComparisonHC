{
 "cells": [
  {
   "cell_type": "markdown",
   "metadata": {},
   "source": [
    "# Hierarchical clustering on the Zoo dataset with Passively Obtained Quadruplets\n",
    "\n",
    "The Zoo dataset is a dataset composed of animals with various characteristics. Here, we show how we can use ComparisonHC to learn a dendrogram of the animals."
   ]
  },
  {
   "cell_type": "markdown",
   "metadata": {},
   "source": [
    "## Imports\n",
    "We start by importing the ComparisonHC class, the core of the method."
   ]
  },
  {
   "cell_type": "code",
   "execution_count": 1,
   "metadata": {},
   "outputs": [],
   "source": [
    "from comparisonhc import ComparisonHC"
   ]
  },
  {
   "cell_type": "markdown",
   "metadata": {},
   "source": [
    "Then we choose an oracle from the module oracle. Here, we settle for a passive oracle, that is an oracle which emulates the fact that quadruplets are passively obtained."
   ]
  },
  {
   "cell_type": "code",
   "execution_count": 2,
   "metadata": {},
   "outputs": [],
   "source": [
    "from comparisonhc.oracle import OraclePassive"
   ]
  },
  {
   "cell_type": "markdown",
   "metadata": {},
   "source": [
    "The oracle uses a similarity function to generate the quadruplets. We use the cosine similarity provided by scikit-learn."
   ]
  },
  {
   "cell_type": "code",
   "execution_count": 3,
   "metadata": {},
   "outputs": [],
   "source": [
    "from sklearn.metrics.pairwise import cosine_similarity"
   ]
  },
  {
   "cell_type": "markdown",
   "metadata": {},
   "source": [
    "We also need to choose the linkage used by ComparisonHC. Here, we choose the average linkage that directly uses comparisons (4-AL in the reference paper). "
   ]
  },
  {
   "cell_type": "code",
   "execution_count": 4,
   "metadata": {},
   "outputs": [],
   "source": [
    "from comparisonhc.linkage import OrdinalLinkageAverage"
   ]
  },
  {
   "cell_type": "markdown",
   "metadata": {},
   "source": [
    "Finally we import numpy for array manipulations."
   ]
  },
  {
   "cell_type": "code",
   "execution_count": 5,
   "metadata": {},
   "outputs": [],
   "source": [
    "import numpy as np"
   ]
  },
  {
   "cell_type": "markdown",
   "metadata": {},
   "source": [
    "## The Zoo Dataset\n",
    "\n",
    "The Zoo dataset contains 100 animals with 16 features each separated in 7 groups. First, we extract the name, the features, and the group of each animal from the file."
   ]
  },
  {
   "cell_type": "code",
   "execution_count": 6,
   "metadata": {},
   "outputs": [],
   "source": [
    "animals = []\n",
    "x = []\n",
    "y = []\n",
    "with open(\"../resources/zoo.csv\",'r') as f:\n",
    "    first_line = True\n",
    "    for line in f:\n",
    "        if first_line:\n",
    "            first_line = False\n",
    "        else:\n",
    "            split_line = line.split(\",\")\n",
    "            animals.append(split_line[0])\n",
    "            x.append(split_line[1:-1])\n",
    "            y.append(split_line[-1])\n",
    "x = np.array(x,dtype=float)\n",
    "y = np.array(y,dtype=int)\n",
    "\n",
    "n = x.shape[0]"
   ]
  },
  {
   "cell_type": "markdown",
   "metadata": {},
   "source": [
    "## Initializing ComparisonHC\n",
    "\n",
    "### Oracle\n",
    "\n",
    "To initialize ComparisonHC we start by creating an oracle exhibiting three methods to access the quadruplets, comparisons, comparisons_to_ref, and comparisons_single. Here we chose a passive oracle, that is an oracle that emulates the fact that the quadruplets are passively obtained. In other words, when we query a quadruplet, the oracle can freely choose to answer or to abstain, and we have no way to control this behaviour. We assume that we have access to $10\\%$ of the quadruplets."
   ]
  },
  {
   "cell_type": "code",
   "execution_count": 7,
   "metadata": {},
   "outputs": [],
   "source": [
    "oracle = OraclePassive(x,metric=cosine_similarity,proportion_quadruplets=0.1)"
   ]
  },
  {
   "cell_type": "markdown",
   "metadata": {},
   "source": [
    "### Linkage\n",
    "\n",
    "We also need to create the linkage object that will be used to merge the clusters. This object exhibits a single method called closest_clusters that can be used to choose which clusters to merge next. We use an average linkage using only comparisons."
   ]
  },
  {
   "cell_type": "code",
   "execution_count": 8,
   "metadata": {},
   "outputs": [],
   "source": [
    "linkage = OrdinalLinkageAverage(oracle)"
   ]
  },
  {
   "cell_type": "markdown",
   "metadata": {},
   "source": [
    "### ComparisonHC\n",
    "\n",
    "We can now create the main ComparisonHC object using the linkage defined above."
   ]
  },
  {
   "cell_type": "code",
   "execution_count": 9,
   "metadata": {},
   "outputs": [],
   "source": [
    "chc = ComparisonHC(linkage)"
   ]
  },
  {
   "cell_type": "markdown",
   "metadata": {},
   "source": [
    "## Learning the Dendrogram\n",
    "\n",
    "To learn a dendrogram we need to use the fit method from ComparisonHC with initial clusters. Here, we start with one example per cluster."
   ]
  },
  {
   "cell_type": "code",
   "execution_count": 10,
   "metadata": {},
   "outputs": [
    {
     "name": "stdout",
     "output_type": "stream",
     "text": [
      "ComparisonHC ran for 12.87 seconds.\n"
     ]
    }
   ],
   "source": [
    "chc.fit([[i] for i in range(n)])\n",
    "\n",
    "print(\"ComparisonHC ran for {:.2f} seconds.\".format(chc.time_elapsed))"
   ]
  },
  {
   "cell_type": "markdown",
   "metadata": {},
   "source": [
    "## Evaluating the Dendrogram\n",
    "\n",
    "To evaluate the performance or the learned dendrogram we can use Dasgupta's cost since, in this particular case, we have acces to the similarity matrix of the examples."
   ]
  },
  {
   "cell_type": "code",
   "execution_count": 11,
   "metadata": {},
   "outputs": [
    {
     "name": "stdout",
     "output_type": "stream",
     "text": [
      "ComparisonHC learned a dendrogram with a Dasgupta's cost of 171748.48.\n"
     ]
    }
   ],
   "source": [
    "cost_chc = chc.cost_dasgupta(cosine_similarity(x,x))\n",
    "\n",
    "print(\"ComparisonHC learned a dendrogram with a Dasgupta's cost of {:.2f}.\".format(cost_chc))"
   ]
  }
 ],
 "metadata": {
  "kernelspec": {
   "display_name": "Python 3",
   "language": "python",
   "name": "python3"
  },
  "language_info": {
   "codemirror_mode": {
    "name": "ipython",
    "version": 3
   },
   "file_extension": ".py",
   "mimetype": "text/x-python",
   "name": "python",
   "nbconvert_exporter": "python",
   "pygments_lexer": "ipython3",
   "version": "3.6.8"
  }
 },
 "nbformat": 4,
 "nbformat_minor": 2
}
